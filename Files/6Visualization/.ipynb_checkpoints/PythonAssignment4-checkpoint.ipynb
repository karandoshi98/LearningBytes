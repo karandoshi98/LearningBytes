{
 "cells": [
  {
   "cell_type": "markdown",
   "metadata": {},
   "source": [
    "##### 1.1 Write a Python Program(with class concepts) to find the area of the triangle using the below formula.\n",
    "##### area = (s*(s-a)*(s-b)*(s-c)) ** 0.5\n",
    "##### Function to take the length of the sides of triangle from user should be defined in the parent class and function to calculate the area should ##### be defined in subclass."
   ]
  },
  {
   "cell_type": "code",
   "execution_count": 58,
   "metadata": {},
   "outputs": [],
   "source": [
    "class uinput():\n",
    "    def uinput_func(self):\n",
    "        self.a,self.b,self.c = input(\"Input three sides of a triangle seperated by space\").split(\" \") \n",
    "        ob1 = area()\n",
    "        A = ob1.tarea(self.a,self.b,self.c)\n",
    "        return A"
   ]
  },
  {
   "cell_type": "code",
   "execution_count": 59,
   "metadata": {},
   "outputs": [],
   "source": [
    "class area(uinput):\n",
    "    def tarea(self,a,b,c):\n",
    "        a,b,c = float(a),float(b),float(c)\n",
    "        s = float((a+b+c)/2)\n",
    "        a = float(s*(s-a)*(s-b)*(s-c))**0.5\n",
    "        return a"
   ]
  },
  {
   "cell_type": "code",
   "execution_count": 60,
   "metadata": {},
   "outputs": [
    {
     "name": "stdout",
     "output_type": "stream",
     "text": [
      "Input three sides of a triangle seperated by space3 4 5\n",
      "Area of triangle  6.0\n"
     ]
    }
   ],
   "source": [
    "obj = uinput()\n",
    "print(\"Area of triangle \", obj.uinput_func())"
   ]
  },
  {
   "cell_type": "markdown",
   "metadata": {},
   "source": [
    "##### 1.2 Write a function filter_long_words() that takes a list of words and an integer n and returns the list of words that are longer than n."
   ]
  },
  {
   "cell_type": "code",
   "execution_count": 68,
   "metadata": {},
   "outputs": [],
   "source": [
    "def filter_long_words(l,n):\n",
    "    list1 = [i for i in l if len(i)>n]\n",
    "    return list1"
   ]
  },
  {
   "cell_type": "code",
   "execution_count": 69,
   "metadata": {},
   "outputs": [
    {
     "name": "stdout",
     "output_type": "stream",
     "text": [
      "['efgfdss', 'ewfsdvsdfs']\n"
     ]
    }
   ],
   "source": [
    "l = ['aandji','dsfsd','ew','aawww','e','efgfdss','ewfsdvsdfs','weedf']\n",
    "n = 6\n",
    "answer = filter_long_words(l,n) \n",
    "print(answer)"
   ]
  },
  {
   "cell_type": "markdown",
   "metadata": {},
   "source": [
    "##### 2.1 Write a Python program using function concept that maps list of words into a list of integers representing the lengths of the corresponding words. Hint: If a list [ ab,cde,erty] is passed on to the python function output should come as [2,3,4] Here 2,3 and 4 are the lengths of the words in the list."
   ]
  },
  {
   "cell_type": "code",
   "execution_count": 70,
   "metadata": {},
   "outputs": [],
   "source": [
    "def map_len(l):\n",
    "    return [len(i) for i in l]"
   ]
  },
  {
   "cell_type": "code",
   "execution_count": 72,
   "metadata": {},
   "outputs": [
    {
     "name": "stdout",
     "output_type": "stream",
     "text": [
      "[6, 5, 2, 5, 1, 7, 10, 5]\n"
     ]
    }
   ],
   "source": [
    "l = ['aandji','dsfsd','ew','aawww','e','efgfdss','ewfsdvsdfs','weedf']\n",
    "print(map_len(l))"
   ]
  },
  {
   "cell_type": "markdown",
   "metadata": {},
   "source": [
    "##### 2.2 Write a Python function which takes a character (i.e. a string of length 1) and returns True if it is a vowel, False otherwise."
   ]
  },
  {
   "cell_type": "code",
   "execution_count": 82,
   "metadata": {},
   "outputs": [],
   "source": [
    "def vow(c):\n",
    "    c = c.lower()\n",
    "    if c in ['a','e','i','o','u']:\n",
    "        print('True')\n",
    "    else:\n",
    "        print('False')"
   ]
  },
  {
   "cell_type": "code",
   "execution_count": 83,
   "metadata": {},
   "outputs": [
    {
     "name": "stdout",
     "output_type": "stream",
     "text": [
      "Enter a chacter : A\n",
      "True\n"
     ]
    }
   ],
   "source": [
    "c = str(input(\"Enter a chacter : \"))\n",
    "if len(c) != 1 or c.isalpha() == False:\n",
    "    print(\"Please enter only 1 character between a to z\")\n",
    "else:\n",
    "    vow(c)"
   ]
  },
  {
   "cell_type": "code",
   "execution_count": null,
   "metadata": {},
   "outputs": [],
   "source": []
  },
  {
   "cell_type": "code",
   "execution_count": null,
   "metadata": {},
   "outputs": [],
   "source": []
  }
 ],
 "metadata": {
  "kernelspec": {
   "display_name": "Python 3",
   "language": "python",
   "name": "python3"
  },
  "language_info": {
   "codemirror_mode": {
    "name": "ipython",
    "version": 3
   },
   "file_extension": ".py",
   "mimetype": "text/x-python",
   "name": "python",
   "nbconvert_exporter": "python",
   "pygments_lexer": "ipython3",
   "version": "3.7.6"
  }
 },
 "nbformat": 4,
 "nbformat_minor": 4
}
