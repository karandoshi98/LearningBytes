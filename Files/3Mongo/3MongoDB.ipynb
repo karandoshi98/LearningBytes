{
 "cells": [
  {
   "cell_type": "code",
   "execution_count": 85,
   "metadata": {},
   "outputs": [],
   "source": [
    "import pymongo"
   ]
  },
  {
   "cell_type": "code",
   "execution_count": 86,
   "metadata": {},
   "outputs": [],
   "source": [
    "dbconn=pymongo.MongoClient(\"mongodb://localhost:27017/\")"
   ]
  },
  {
   "cell_type": "code",
   "execution_count": 87,
   "metadata": {},
   "outputs": [],
   "source": [
    "dbname = \"demoDB\""
   ]
  },
  {
   "cell_type": "code",
   "execution_count": 88,
   "metadata": {},
   "outputs": [],
   "source": [
    "db = dbconn[dbname]"
   ]
  },
  {
   "cell_type": "code",
   "execution_count": 89,
   "metadata": {},
   "outputs": [
    {
     "name": "stdout",
     "output_type": "stream",
     "text": [
      "['acme', 'admin', 'config', 'demoDB', 'local']\n"
     ]
    }
   ],
   "source": [
    "print(dbconn.list_database_names())"
   ]
  },
  {
   "cell_type": "code",
   "execution_count": 90,
   "metadata": {},
   "outputs": [
    {
     "name": "stdout",
     "output_type": "stream",
     "text": [
      "['acme', 'admin', 'config', 'demoDB', 'local']\n",
      "Database exists\n"
     ]
    }
   ],
   "source": [
    "dblist = dbconn.list_database_names()\n",
    "print(dblist)\n",
    "db_name=\"demoDB\"\n",
    "\n",
    "if db_name in dblist:\n",
    "    print(\"Database exists\")\n",
    "else:\n",
    "    print(\"Database doesn't exist\")"
   ]
  },
  {
   "cell_type": "code",
   "execution_count": 91,
   "metadata": {},
   "outputs": [],
   "source": [
    "collection_name = \"mongo_demo\""
   ]
  },
  {
   "cell_type": "code",
   "execution_count": 92,
   "metadata": {},
   "outputs": [],
   "source": [
    "collection = db[collection_name]"
   ]
  },
  {
   "cell_type": "code",
   "execution_count": 93,
   "metadata": {},
   "outputs": [
    {
     "name": "stdout",
     "output_type": "stream",
     "text": [
      "collection exists\n"
     ]
    }
   ],
   "source": [
    "if collection_name in db.list_collection_names():\n",
    "    print(\"collection exists\")\n",
    "else:\n",
    "    print(\"collection doesn't exist\")"
   ]
  },
  {
   "cell_type": "code",
   "execution_count": 94,
   "metadata": {},
   "outputs": [],
   "source": [
    "my_row = {'Serial No':'998',\n",
    "         'GRE Score':'337',\n",
    "         'SOP':'4.5',\n",
    "         'Research':'1',\n",
    "         'Chance of Admit':'0.89'}\n"
   ]
  },
  {
   "cell_type": "code",
   "execution_count": 95,
   "metadata": {},
   "outputs": [],
   "source": [
    "x = collection.insert_one(my_row)"
   ]
  },
  {
   "cell_type": "code",
   "execution_count": 96,
   "metadata": {},
   "outputs": [
    {
     "data": {
      "text/plain": [
       "ObjectId('609eb9c63252486d41bbd4ca')"
      ]
     },
     "execution_count": 96,
     "metadata": {},
     "output_type": "execute_result"
    }
   ],
   "source": [
    "x.inserted_id"
   ]
  },
  {
   "cell_type": "code",
   "execution_count": 97,
   "metadata": {},
   "outputs": [],
   "source": [
    "my_rows = [\n",
    "    {'Serial No':'942398',\n",
    "         'GRE Score':'3367',\n",
    "         'SOP':'4.235',\n",
    "         'Research':'16',\n",
    "         'Chance of Admit':'0.8934'},\n",
    "    {'Serial No':'92398',\n",
    "         'GRE Score':'33357',\n",
    "         'SOP':'4.235',\n",
    "         'Research':'1',\n",
    "         'Chance of Admit':'0.89'},\n",
    "    {'Serial No':'94598',\n",
    "         'GRE Score':'34537',\n",
    "         'SOP':'4.52',\n",
    "         'Research':'13',\n",
    "         'Chance of Admit':'0.59'}\n",
    "\n",
    "]"
   ]
  },
  {
   "cell_type": "code",
   "execution_count": 98,
   "metadata": {},
   "outputs": [],
   "source": [
    "x = collection.insert_many(my_rows)"
   ]
  },
  {
   "cell_type": "code",
   "execution_count": 99,
   "metadata": {},
   "outputs": [
    {
     "data": {
      "text/plain": [
       "[ObjectId('609eb9c63252486d41bbd4cb'),\n",
       " ObjectId('609eb9c63252486d41bbd4cc'),\n",
       " ObjectId('609eb9c63252486d41bbd4cd')]"
      ]
     },
     "execution_count": 99,
     "metadata": {},
     "output_type": "execute_result"
    }
   ],
   "source": [
    "x.inserted_ids"
   ]
  },
  {
   "cell_type": "code",
   "execution_count": 100,
   "metadata": {},
   "outputs": [
    {
     "name": "stdout",
     "output_type": "stream",
     "text": [
      "{'_id': ObjectId('609eb3d03252486d41bbd4c2'), 'Serial No': '92398', 'GRE Score': '33357', 'SOP': '4.235', 'Research': '1', 'Chance of Admit': '0.89'}\n",
      "{'_id': ObjectId('609eb3d03252486d41bbd4c3'), 'Serial No': '94598', 'GRE Score': '337', 'SOP': '4.52', 'Research': '13', 'Chance of Admit': '0.59'}\n",
      "{'_id': ObjectId('609eb99a3252486d41bbd4c5'), 'Serial No': '998', 'GRE Score': '337', 'SOP': '4.5', 'Research': '1', 'Chance of Admit': '0.89'}\n",
      "{'_id': ObjectId('609eb99b3252486d41bbd4c7'), 'Serial No': '92398', 'GRE Score': '33357', 'SOP': '4.235', 'Research': '1', 'Chance of Admit': '0.89'}\n",
      "{'_id': ObjectId('609eb99b3252486d41bbd4c8'), 'Serial No': '94598', 'GRE Score': '337', 'SOP': '4.52', 'Research': '13', 'Chance of Admit': '0.59'}\n",
      "{'_id': ObjectId('609eb9c63252486d41bbd4ca'), 'Serial No': '998', 'GRE Score': '337', 'SOP': '4.5', 'Research': '1', 'Chance of Admit': '0.89'}\n",
      "{'_id': ObjectId('609eb9c63252486d41bbd4cb'), 'Serial No': '942398', 'GRE Score': '3367', 'SOP': '4.235', 'Research': '16', 'Chance of Admit': '0.8934'}\n",
      "{'_id': ObjectId('609eb9c63252486d41bbd4cc'), 'Serial No': '92398', 'GRE Score': '33357', 'SOP': '4.235', 'Research': '1', 'Chance of Admit': '0.89'}\n",
      "{'_id': ObjectId('609eb9c63252486d41bbd4cd'), 'Serial No': '94598', 'GRE Score': '34537', 'SOP': '4.52', 'Research': '13', 'Chance of Admit': '0.59'}\n"
     ]
    }
   ],
   "source": [
    "result = collection.find({})\n",
    "for r in result:\n",
    "    print(r)"
   ]
  },
  {
   "cell_type": "code",
   "execution_count": 101,
   "metadata": {},
   "outputs": [
    {
     "name": "stdout",
     "output_type": "stream",
     "text": [
      "{'_id': ObjectId('609eb3d03252486d41bbd4c2'), 'Serial No': '92398', 'GRE Score': '33357', 'SOP': '4.235', 'Research': '1', 'Chance of Admit': '0.89'}\n"
     ]
    }
   ],
   "source": [
    "result = collection.find({}).limit(1)\n",
    "for r in result:\n",
    "    print(r)"
   ]
  },
  {
   "cell_type": "code",
   "execution_count": 102,
   "metadata": {},
   "outputs": [
    {
     "name": "stdout",
     "output_type": "stream",
     "text": [
      "{'_id': ObjectId('609eb3d03252486d41bbd4c2'), 'GRE Score': '33357'}\n",
      "{'_id': ObjectId('609eb3d03252486d41bbd4c3'), 'GRE Score': '337'}\n",
      "{'_id': ObjectId('609eb99a3252486d41bbd4c5'), 'GRE Score': '337'}\n",
      "{'_id': ObjectId('609eb99b3252486d41bbd4c7'), 'GRE Score': '33357'}\n",
      "{'_id': ObjectId('609eb99b3252486d41bbd4c8'), 'GRE Score': '337'}\n",
      "{'_id': ObjectId('609eb9c63252486d41bbd4ca'), 'GRE Score': '337'}\n",
      "{'_id': ObjectId('609eb9c63252486d41bbd4cb'), 'GRE Score': '3367'}\n",
      "{'_id': ObjectId('609eb9c63252486d41bbd4cc'), 'GRE Score': '33357'}\n",
      "{'_id': ObjectId('609eb9c63252486d41bbd4cd'), 'GRE Score': '34537'}\n"
     ]
    }
   ],
   "source": [
    "result = collection.find({},{'GRE Score'})\n",
    "for r in result:\n",
    "    print(r)"
   ]
  },
  {
   "cell_type": "code",
   "execution_count": 103,
   "metadata": {},
   "outputs": [
    {
     "name": "stdout",
     "output_type": "stream",
     "text": [
      "{'_id': ObjectId('609eb3d03252486d41bbd4c3'), 'Serial No': '94598', 'GRE Score': '337', 'SOP': '4.52', 'Research': '13', 'Chance of Admit': '0.59'}\n",
      "{'_id': ObjectId('609eb99a3252486d41bbd4c5'), 'Serial No': '998', 'GRE Score': '337', 'SOP': '4.5', 'Research': '1', 'Chance of Admit': '0.89'}\n",
      "{'_id': ObjectId('609eb99b3252486d41bbd4c8'), 'Serial No': '94598', 'GRE Score': '337', 'SOP': '4.52', 'Research': '13', 'Chance of Admit': '0.59'}\n",
      "{'_id': ObjectId('609eb9c63252486d41bbd4ca'), 'Serial No': '998', 'GRE Score': '337', 'SOP': '4.5', 'Research': '1', 'Chance of Admit': '0.89'}\n"
     ]
    }
   ],
   "source": [
    "db_query = {'GRE Score':'337'}\n",
    "result = collection.find(db_query)\n",
    "for r in result:\n",
    "    print(r)"
   ]
  },
  {
   "cell_type": "code",
   "execution_count": 104,
   "metadata": {},
   "outputs": [
    {
     "name": "stdout",
     "output_type": "stream",
     "text": [
      "{'_id': ObjectId('609eb9c63252486d41bbd4cd'), 'Serial No': '94598', 'GRE Score': '34537', 'SOP': '4.52', 'Research': '13', 'Chance of Admit': '0.59'}\n",
      "{'_id': ObjectId('609eb3d03252486d41bbd4c3'), 'Serial No': '94598', 'GRE Score': '337', 'SOP': '4.52', 'Research': '13', 'Chance of Admit': '0.59'}\n",
      "{'_id': ObjectId('609eb99a3252486d41bbd4c5'), 'Serial No': '998', 'GRE Score': '337', 'SOP': '4.5', 'Research': '1', 'Chance of Admit': '0.89'}\n",
      "{'_id': ObjectId('609eb99b3252486d41bbd4c8'), 'Serial No': '94598', 'GRE Score': '337', 'SOP': '4.52', 'Research': '13', 'Chance of Admit': '0.59'}\n",
      "{'_id': ObjectId('609eb9c63252486d41bbd4ca'), 'Serial No': '998', 'GRE Score': '337', 'SOP': '4.5', 'Research': '1', 'Chance of Admit': '0.89'}\n",
      "{'_id': ObjectId('609eb9c63252486d41bbd4cb'), 'Serial No': '942398', 'GRE Score': '3367', 'SOP': '4.235', 'Research': '16', 'Chance of Admit': '0.8934'}\n",
      "{'_id': ObjectId('609eb3d03252486d41bbd4c2'), 'Serial No': '92398', 'GRE Score': '33357', 'SOP': '4.235', 'Research': '1', 'Chance of Admit': '0.89'}\n",
      "{'_id': ObjectId('609eb99b3252486d41bbd4c7'), 'Serial No': '92398', 'GRE Score': '33357', 'SOP': '4.235', 'Research': '1', 'Chance of Admit': '0.89'}\n",
      "{'_id': ObjectId('609eb9c63252486d41bbd4cc'), 'Serial No': '92398', 'GRE Score': '33357', 'SOP': '4.235', 'Research': '1', 'Chance of Admit': '0.89'}\n"
     ]
    }
   ],
   "source": [
    "db_query = {'GRE Score':{'$gt':'233'}}\n",
    "result = collection.find(db_query).sort('GRE Score',-1)\n",
    "for r in result:\n",
    "    print(r)"
   ]
  },
  {
   "cell_type": "code",
   "execution_count": 111,
   "metadata": {},
   "outputs": [
    {
     "data": {
      "text/plain": [
       "0"
      ]
     },
     "execution_count": 111,
     "metadata": {},
     "output_type": "execute_result"
    }
   ],
   "source": [
    "db_query = {'GRE Score':'3367'}\n",
    "result = collection.delete_one(db_query)\n",
    "result.deleted_count"
   ]
  },
  {
   "cell_type": "code",
   "execution_count": 106,
   "metadata": {},
   "outputs": [
    {
     "data": {
      "text/plain": [
       "<pymongo.results.InsertOneResult at 0x17238b59d08>"
      ]
     },
     "execution_count": 106,
     "metadata": {},
     "output_type": "execute_result"
    }
   ],
   "source": [
    "collection_name = \"demo2\"\n",
    "collection1 = db[collection_name]\n",
    "collection1.insert_one(my_row)"
   ]
  },
  {
   "cell_type": "code",
   "execution_count": 107,
   "metadata": {},
   "outputs": [
    {
     "data": {
      "text/plain": [
       "['mongo_demo', 'demo2']"
      ]
     },
     "execution_count": 107,
     "metadata": {},
     "output_type": "execute_result"
    }
   ],
   "source": [
    "db.list_collection_names()"
   ]
  },
  {
   "cell_type": "code",
   "execution_count": 108,
   "metadata": {},
   "outputs": [],
   "source": [
    "collection_to_drop=db['demo2']\n",
    "collection_to_drop.drop()"
   ]
  },
  {
   "cell_type": "code",
   "execution_count": 109,
   "metadata": {},
   "outputs": [
    {
     "data": {
      "text/plain": [
       "['mongo_demo']"
      ]
     },
     "execution_count": 109,
     "metadata": {},
     "output_type": "execute_result"
    }
   ],
   "source": [
    "db.list_collection_names()"
   ]
  },
  {
   "cell_type": "code",
   "execution_count": 110,
   "metadata": {},
   "outputs": [
    {
     "name": "stdout",
     "output_type": "stream",
     "text": [
      "1\n"
     ]
    }
   ],
   "source": [
    "update_criteria = {'GRE Score':'34537'}\n",
    "new_value = {'$set':{'GRE Score':'337'}}\n",
    "\n",
    "result = collection.update_many(update_criteria,new_value)\n",
    "print(result.modified_count)"
   ]
  },
  {
   "cell_type": "code",
   "execution_count": null,
   "metadata": {},
   "outputs": [],
   "source": []
  },
  {
   "cell_type": "code",
   "execution_count": null,
   "metadata": {},
   "outputs": [],
   "source": []
  },
  {
   "cell_type": "code",
   "execution_count": null,
   "metadata": {},
   "outputs": [],
   "source": []
  }
 ],
 "metadata": {
  "kernelspec": {
   "display_name": "Python 3",
   "language": "python",
   "name": "python3"
  },
  "language_info": {
   "codemirror_mode": {
    "name": "ipython",
    "version": 3
   },
   "file_extension": ".py",
   "mimetype": "text/x-python",
   "name": "python",
   "nbconvert_exporter": "python",
   "pygments_lexer": "ipython3",
   "version": "3.7.6"
  }
 },
 "nbformat": 4,
 "nbformat_minor": 4
}
