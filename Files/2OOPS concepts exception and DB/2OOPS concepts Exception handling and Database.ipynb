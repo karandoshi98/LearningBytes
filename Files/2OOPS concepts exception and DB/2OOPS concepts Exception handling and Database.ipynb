{
 "cells": [
  {
   "cell_type": "markdown",
   "metadata": {},
   "source": [
    "## OOPS\n"
   ]
  },
  {
   "cell_type": "code",
   "execution_count": null,
   "metadata": {},
   "outputs": [],
   "source": [
    "class Car:\n",
    "    def __init__(self,window,door,engtyp):\n",
    "        self.windows = window\n",
    "        self.doors = door\n",
    "        self.enginetype = engtyp\n",
    "    def driving(self):\n",
    "        return \"This is a {} car\".format(self.enginetype)\n"
   ]
  },
  {
   "cell_type": "code",
   "execution_count": null,
   "metadata": {},
   "outputs": [],
   "source": [
    "dir(Car)"
   ]
  },
  {
   "cell_type": "code",
   "execution_count": null,
   "metadata": {},
   "outputs": [],
   "source": [
    "car1 = Car(4,2,\"petrol\")"
   ]
  },
  {
   "cell_type": "code",
   "execution_count": null,
   "metadata": {},
   "outputs": [],
   "source": [
    "car1"
   ]
  },
  {
   "cell_type": "code",
   "execution_count": null,
   "metadata": {},
   "outputs": [],
   "source": [
    "car1.windows"
   ]
  },
  {
   "cell_type": "code",
   "execution_count": null,
   "metadata": {},
   "outputs": [],
   "source": [
    "car1.enginetype"
   ]
  },
  {
   "cell_type": "code",
   "execution_count": null,
   "metadata": {},
   "outputs": [],
   "source": [
    "car1.driving()\n"
   ]
  },
  {
   "cell_type": "code",
   "execution_count": null,
   "metadata": {},
   "outputs": [],
   "source": [
    "class Person:\n",
    "    def __init__(self, name, surname, year_of_birth):\n",
    "        self.__name = name        # protected\n",
    "        self._surname = surname   # private \n",
    "        self.year_of_birth = year_of_birth   # public\n",
    "    \n",
    "    def age(self, current_year):\n",
    "        return current_year - self.year_of_birth\n",
    "    \n",
    "    def __str__(self):\n",
    "        return \"%s %s and was born %d.\" \\\n",
    "                % (self.__name, self._surname, self.year_of_birth)\n",
    "    \n",
    "alec = Person(\"Alec\", \"Baldwin\", 1958)\n",
    "print(alec._Person__name)\n",
    "print(alec._surname)\n",
    "print(alec.year_of_birth)\n"
   ]
  },
  {
   "cell_type": "markdown",
   "metadata": {},
   "source": [
    "### Inheritance / Class variables/ Class Methods"
   ]
  },
  {
   "cell_type": "code",
<<<<<<< HEAD
   "execution_count": 9,
=======
   "execution_count": null,
>>>>>>> 3dbb9f99f278d48a5bfa677b4f483a03b2bce40a
   "metadata": {},
   "outputs": [],
   "source": [
    "class Car():\n",
    "    base_price = 100000 #class variable\n",
    "    def __init__(self,window,door,engtyp):\n",
    "        self.windows = window\n",
    "        self.doors = door\n",
    "        self.enginetype = engtyp\n",
    "    def pbp(self):\n",
    "        print(self.base_price)\n",
    "        print(self.enginetype)\n",
    "        \n",
    "    @classmethod\n",
    "    def revised_base_price(cls,inflation):\n",
    "        cls.base_price= cls.base_price + cls.base_price*inflation\n"
   ]
  },
  {
   "cell_type": "code",
<<<<<<< HEAD
   "execution_count": 10,
=======
   "execution_count": null,
>>>>>>> 3dbb9f99f278d48a5bfa677b4f483a03b2bce40a
   "metadata": {},
   "outputs": [],
   "source": [
    "c1 = Car(4,6,\"Diesel\")"
   ]
  },
  {
   "cell_type": "code",
<<<<<<< HEAD
   "execution_count": 11,
   "metadata": {},
   "outputs": [
    {
     "data": {
      "text/plain": [
       "4"
      ]
     },
     "execution_count": 11,
     "metadata": {},
     "output_type": "execute_result"
    }
   ],
=======
   "execution_count": null,
   "metadata": {},
   "outputs": [],
>>>>>>> 3dbb9f99f278d48a5bfa677b4f483a03b2bce40a
   "source": [
    "c1.windows"
   ]
  },
  {
   "cell_type": "code",
<<<<<<< HEAD
   "execution_count": 12,
   "metadata": {},
   "outputs": [
    {
     "data": {
      "text/plain": [
       "100000"
      ]
     },
     "execution_count": 12,
     "metadata": {},
     "output_type": "execute_result"
    }
   ],
=======
   "execution_count": null,
   "metadata": {},
   "outputs": [],
>>>>>>> 3dbb9f99f278d48a5bfa677b4f483a03b2bce40a
   "source": [
    "Car.base_price"
   ]
  },
  {
   "cell_type": "code",
<<<<<<< HEAD
   "execution_count": 13,
   "metadata": {},
   "outputs": [
    {
     "data": {
      "text/plain": [
       "100000"
      ]
     },
     "execution_count": 13,
     "metadata": {},
     "output_type": "execute_result"
    }
   ],
=======
   "execution_count": null,
   "metadata": {},
   "outputs": [],
>>>>>>> 3dbb9f99f278d48a5bfa677b4f483a03b2bce40a
   "source": [
    "c1.base_price"
   ]
  },
  {
   "cell_type": "code",
<<<<<<< HEAD
   "execution_count": 14,
   "metadata": {},
   "outputs": [
    {
     "data": {
      "text/plain": [
       "'Diesel'"
      ]
     },
     "execution_count": 14,
     "metadata": {},
     "output_type": "execute_result"
    }
   ],
=======
   "execution_count": null,
   "metadata": {},
   "outputs": [],
>>>>>>> 3dbb9f99f278d48a5bfa677b4f483a03b2bce40a
   "source": [
    "c1.enginetype"
   ]
  },
  {
   "cell_type": "code",
<<<<<<< HEAD
   "execution_count": 15,
   "metadata": {},
   "outputs": [
    {
     "name": "stdout",
     "output_type": "stream",
     "text": [
      "100000\n",
      "Diesel\n"
     ]
    }
   ],
=======
   "execution_count": null,
   "metadata": {},
   "outputs": [],
>>>>>>> 3dbb9f99f278d48a5bfa677b4f483a03b2bce40a
   "source": [
    "c1.pbp()"
   ]
  },
  {
   "cell_type": "code",
<<<<<<< HEAD
   "execution_count": 17,
   "metadata": {},
   "outputs": [
    {
     "data": {
      "text/plain": [
       "100000"
      ]
     },
     "execution_count": 17,
     "metadata": {},
     "output_type": "execute_result"
    }
   ],
=======
   "execution_count": null,
   "metadata": {},
   "outputs": [],
>>>>>>> 3dbb9f99f278d48a5bfa677b4f483a03b2bce40a
   "source": [
    "c1.base_price"
   ]
  },
  {
   "cell_type": "code",
<<<<<<< HEAD
   "execution_count": 18,
   "metadata": {},
   "outputs": [
    {
     "data": {
      "text/plain": [
       "110000.0"
      ]
     },
     "execution_count": 18,
     "metadata": {},
     "output_type": "execute_result"
    }
   ],
=======
   "execution_count": null,
   "metadata": {},
   "outputs": [],
>>>>>>> 3dbb9f99f278d48a5bfa677b4f483a03b2bce40a
   "source": [
    "Car.revised_base_price(0.10)\n",
    "c1.base_price"
   ]
  },
  {
   "cell_type": "code",
<<<<<<< HEAD
   "execution_count": 19,
   "metadata": {},
   "outputs": [
    {
     "data": {
      "text/plain": [
       "121000.0"
      ]
     },
     "execution_count": 19,
     "metadata": {},
     "output_type": "execute_result"
    }
   ],
=======
   "execution_count": null,
   "metadata": {},
   "outputs": [],
>>>>>>> 3dbb9f99f278d48a5bfa677b4f483a03b2bce40a
   "source": [
    "c1.revised_base_price(0.10)\n",
    "c1.base_price"
   ]
  },
  {
   "cell_type": "code",
<<<<<<< HEAD
   "execution_count": 20,
=======
   "execution_count": null,
>>>>>>> 3dbb9f99f278d48a5bfa677b4f483a03b2bce40a
   "metadata": {},
   "outputs": [],
   "source": [
    "c2 = Car(3,4,\"petrol\")"
   ]
  },
  {
   "cell_type": "code",
<<<<<<< HEAD
   "execution_count": 21,
   "metadata": {},
   "outputs": [
    {
     "data": {
      "text/plain": [
       "121000.0"
      ]
     },
     "execution_count": 21,
     "metadata": {},
     "output_type": "execute_result"
    }
   ],
=======
   "execution_count": null,
   "metadata": {},
   "outputs": [],
>>>>>>> 3dbb9f99f278d48a5bfa677b4f483a03b2bce40a
   "source": [
    "c2.base_price"
   ]
  },
  {
   "cell_type": "code",
<<<<<<< HEAD
   "execution_count": 22,
   "metadata": {},
   "outputs": [
    {
     "name": "stdout",
     "output_type": "stream",
     "text": [
      "121000.0\n",
      "petrol\n"
     ]
    }
   ],
=======
   "execution_count": null,
   "metadata": {},
   "outputs": [],
>>>>>>> 3dbb9f99f278d48a5bfa677b4f483a03b2bce40a
   "source": [
    "Car.pbp(c2)"
   ]
  },
  {
   "cell_type": "code",
   "execution_count": null,
   "metadata": {},
   "outputs": [],
   "source": [
    "class audi(Car):\n",
    "    def __init__(self,window,door,engtyp,eai):\n",
    "        super().__init__(window,door,engtyp)\n",
    "        self.eai = eai\n",
    "    def selfdriving(self):\n",
    "        print(\"Audi supports Self driving\")"
   ]
  },
  {
   "cell_type": "code",
   "execution_count": null,
   "metadata": {},
   "outputs": [],
   "source": [
    "a1 = audi(3,4,\"petrol\",True)"
   ]
  },
  {
   "cell_type": "code",
   "execution_count": null,
   "metadata": {},
   "outputs": [],
   "source": [
    "dir(a1)"
   ]
  },
  {
   "cell_type": "code",
   "execution_count": null,
   "metadata": {},
   "outputs": [],
   "source": [
    "a1.windows\n"
   ]
  },
  {
   "cell_type": "code",
   "execution_count": null,
   "metadata": {},
   "outputs": [],
   "source": [
    "a1.drive()"
   ]
  },
  {
   "cell_type": "code",
   "execution_count": null,
   "metadata": {},
   "outputs": [],
   "source": [
    "a1.selfdriving()"
   ]
  },
  {
   "cell_type": "markdown",
   "metadata": {},
   "source": [
    "###  Multiple Inheritance"
   ]
  },
  {
   "cell_type": "code",
   "execution_count": null,
   "metadata": {},
   "outputs": [],
   "source": [
    "class A:\n",
    "    def method(self):\n",
    "        print(\"A class method is called\")\n",
    "    def m1(self):\n",
    "        print(\"M1 called of A\")\n",
    "class B(A):\n",
    "    def method(self):\n",
    "        print(\"B class method is called\")\n",
    "    def m2(self):\n",
    "        print(\"M2 called of B\")\n",
    "class C(A):\n",
    "    def method(self):\n",
    "        print(\"C class method is called\")\n",
    "class D(B,C):       # multiple inheritance\n",
    "    def method(self):\n",
    "        print(\"D class method is called\")\n",
    "        C.method(self)\n",
    "        A.method(self)\n",
    "        B.m2(self)"
   ]
  },
  {
   "cell_type": "code",
   "execution_count": null,
   "metadata": {},
   "outputs": [],
   "source": [
    "d=D()\n",
    "d.method()"
   ]
  },
  {
   "cell_type": "code",
   "execution_count": null,
   "metadata": {},
   "outputs": [],
   "source": [
    "d.m1()"
   ]
  },
  {
   "cell_type": "code",
   "execution_count": null,
   "metadata": {},
   "outputs": [],
   "source": [
    "A.method(d)"
   ]
  },
  {
   "cell_type": "code",
   "execution_count": null,
   "metadata": {},
   "outputs": [],
   "source": []
  },
  {
   "cell_type": "code",
   "execution_count": null,
   "metadata": {},
   "outputs": [],
   "source": [
    "def welcome():\n",
    "    return \"welcome here\"\n"
   ]
  },
  {
   "cell_type": "code",
   "execution_count": null,
   "metadata": {},
   "outputs": [],
   "source": [
    "wel = welcome()\n",
    "del welcome"
   ]
  },
  {
   "cell_type": "code",
   "execution_count": null,
   "metadata": {},
   "outputs": [],
   "source": [
    "wel"
   ]
  },
  {
   "cell_type": "code",
   "execution_count": null,
   "metadata": {},
   "outputs": [],
   "source": [
    "welcome()"
   ]
  },
  {
   "cell_type": "markdown",
   "metadata": {},
   "source": [
    "###  Closures - function in a function"
   ]
  },
  {
   "cell_type": "code",
<<<<<<< HEAD
   "execution_count": 5,
=======
   "execution_count": null,
>>>>>>> 3dbb9f99f278d48a5bfa677b4f483a03b2bce40a
   "metadata": {},
   "outputs": [],
   "source": [
    "def main_welcome():\n",
    "    print(\"main\")\n",
    "    msg = \"Hello everyone\"\n",
    "    def sub_welcome():\n",
    "        print(\"Welcome to sub\")\n",
    "        print(msg)\n",
<<<<<<< HEAD
    "    return sub_welcome()"
=======
    "    return sub_welcome()\n",
    "    "
>>>>>>> 3dbb9f99f278d48a5bfa677b4f483a03b2bce40a
   ]
  },
  {
   "cell_type": "code",
<<<<<<< HEAD
   "execution_count": 6,
   "metadata": {},
   "outputs": [
    {
     "name": "stdout",
     "output_type": "stream",
     "text": [
      "main\n",
      "Welcome to sub\n",
      "Hello everyone\n"
     ]
    }
   ],
=======
   "execution_count": null,
   "metadata": {},
   "outputs": [],
>>>>>>> 3dbb9f99f278d48a5bfa677b4f483a03b2bce40a
   "source": [
    "main_welcome()"
   ]
  },
  {
   "cell_type": "code",
<<<<<<< HEAD
   "execution_count": 7,
=======
   "execution_count": null,
>>>>>>> 3dbb9f99f278d48a5bfa677b4f483a03b2bce40a
   "metadata": {},
   "outputs": [],
   "source": [
    "def main_welcome(func):\n",
    "    print(\"main\")\n",
    "    msg = \"Hello everyone\"\n",
    "    def sub_welcome():\n",
    "        print(\"Welcome to sub\")\n",
    "        func(\"Passing inbuilt function to a sub function\")\n",
    "        print(msg)\n",
    "    return sub_welcome()"
   ]
  },
  {
   "cell_type": "code",
<<<<<<< HEAD
   "execution_count": 8,
   "metadata": {},
   "outputs": [
    {
     "name": "stdout",
     "output_type": "stream",
     "text": [
      "main\n",
      "Welcome to sub\n",
      "Passing inbuilt function to a sub function\n",
      "Hello everyone\n"
     ]
    }
   ],
=======
   "execution_count": null,
   "metadata": {},
   "outputs": [],
>>>>>>> 3dbb9f99f278d48a5bfa677b4f483a03b2bce40a
   "source": [
    "main_welcome(print)"
   ]
  },
  {
   "cell_type": "markdown",
   "metadata": {},
   "source": [
    "### Decorator - calling a function inside a function and passing a function as an argument"
   ]
  },
  {
   "cell_type": "code",
<<<<<<< HEAD
   "execution_count": 1,
=======
   "execution_count": null,
>>>>>>> 3dbb9f99f278d48a5bfa677b4f483a03b2bce40a
   "metadata": {},
   "outputs": [],
   "source": [
    "def main_welcome(func):\n",
    "    print(\"main\")\n",
    "    msg = \"Hello everyone\"\n",
    "    def sub_welcome():\n",
    "        print(\"Welcome to sub\")\n",
    "        func()\n",
    "        print(msg)\n",
    "    return sub_welcome()"
   ]
  },
  {
   "cell_type": "code",
<<<<<<< HEAD
   "execution_count": 2,
=======
   "execution_count": null,
>>>>>>> 3dbb9f99f278d48a5bfa677b4f483a03b2bce40a
   "metadata": {},
   "outputs": [],
   "source": [
    "def channel_name():\n",
    "    print(\"This is a english channel\")"
   ]
  },
  {
   "cell_type": "code",
<<<<<<< HEAD
   "execution_count": 3,
   "metadata": {},
   "outputs": [
    {
     "name": "stdout",
     "output_type": "stream",
     "text": [
      "main\n",
      "Welcome to sub\n",
      "This is a english channel\n",
      "Hello everyone\n"
     ]
    }
   ],
=======
   "execution_count": null,
   "metadata": {},
   "outputs": [],
>>>>>>> 3dbb9f99f278d48a5bfa677b4f483a03b2bce40a
   "source": [
    "main_welcome(channel_name)"
   ]
  },
  {
   "cell_type": "code",
<<<<<<< HEAD
   "execution_count": 4,
   "metadata": {},
   "outputs": [
    {
     "name": "stdout",
     "output_type": "stream",
     "text": [
      "main\n",
      "Welcome to sub\n",
      "This is a english channel\n",
      "Hello everyone\n"
     ]
    }
   ],
=======
   "execution_count": null,
   "metadata": {},
   "outputs": [],
>>>>>>> 3dbb9f99f278d48a5bfa677b4f483a03b2bce40a
   "source": [
    "@main_welcome\n",
    "def channel_name():\n",
    "    print(\"This is a english channel\")\n"
   ]
  },
  {
   "cell_type": "markdown",
   "metadata": {},
   "source": [
    "### Method Overriding"
   ]
  },
  {
   "cell_type": "code",
   "execution_count": null,
   "metadata": {},
   "outputs": [],
   "source": [
    "class person:\n",
    "    def __init__(self,a,b,c):\n",
    "        self.a = a\n",
    "        self.b = b\n",
    "        self.c = c\n",
    "    def __str__(self):\n",
    "        return\"My name is KAran\""
   ]
  },
  {
   "cell_type": "code",
   "execution_count": null,
   "metadata": {},
   "outputs": [],
   "source": [
    "p = person(2,3,4)"
   ]
  },
  {
   "cell_type": "code",
   "execution_count": null,
   "metadata": {},
   "outputs": [],
   "source": [
    "print(p) ## Overriding the inbuilt __str__ method"
   ]
  },
  {
   "cell_type": "code",
   "execution_count": null,
   "metadata": {},
   "outputs": [],
   "source": [
    "class student(person):\n",
    "    def __init__(self,student_id,*args):\n",
    "        super(student,self).__init__(*args)\n",
    "        self.student_id = student_id\n",
    "    def __str__(self):\n",
    "        return super(student,self).__str__() + \"  I am a student\""
   ]
  },
  {
   "cell_type": "code",
   "execution_count": null,
   "metadata": {},
   "outputs": [],
   "source": [
    "s = student(4,5,6,9)"
   ]
  },
  {
   "cell_type": "code",
   "execution_count": null,
   "metadata": {},
   "outputs": [],
   "source": [
    "print(s)"
   ]
  },
  {
   "cell_type": "code",
   "execution_count": null,
   "metadata": {},
   "outputs": [],
   "source": [
    "print(p)"
   ]
  },
  {
   "cell_type": "markdown",
   "metadata": {},
   "source": [
    "### Encapsulation - Hiding the functionality of classes"
   ]
  },
  {
   "cell_type": "markdown",
   "metadata": {},
   "source": [
    "#### Composite encapsulation - we need to pass objects in the final class (here Car class)"
   ]
  },
  {
   "cell_type": "code",
   "execution_count": null,
   "metadata": {},
   "outputs": [],
   "source": [
    "class tyre:\n",
    "    def __init__(self, branch, baise, opt_pre):\n",
    "        self.branch = branch\n",
    "        self.baise = baise\n",
    "        self.opt_pre = opt_pre\n",
    "    def __str__(self):\n",
    "        return str(self.branch) +\" \"+ str(self.baise) +\" \"+ str(self.opt_pre)"
   ]
  },
  {
   "cell_type": "code",
   "execution_count": null,
   "metadata": {},
   "outputs": [],
   "source": [
    "t = tyre(\"dfw\",32,62)"
   ]
  },
  {
   "cell_type": "code",
   "execution_count": null,
   "metadata": {},
   "outputs": [],
   "source": [
    "print(t)"
   ]
  },
  {
   "cell_type": "code",
   "execution_count": null,
   "metadata": {},
   "outputs": [],
   "source": [
    "class engine:\n",
    "    def __init__(self, fuel_type, noise_level):\n",
    "        self.fuel_type = fuel_type\n",
    "        self.noise_level = noise_level\n",
    "    def __str__(self):\n",
    "        return str(self.fuel_type) +\" \"+ str(self.noise_level)"
   ]
  },
  {
   "cell_type": "code",
   "execution_count": null,
   "metadata": {},
   "outputs": [],
   "source": [
    "e = engine(\"electric\", 2)"
   ]
  },
  {
   "cell_type": "code",
   "execution_count": null,
   "metadata": {},
   "outputs": [],
   "source": [
    "print(e)"
   ]
  },
  {
   "cell_type": "code",
   "execution_count": null,
   "metadata": {},
   "outputs": [],
   "source": [
    "class body:\n",
    "    def __init__(self, body_size):\n",
    "        self.body_size = body_size\n",
    "\n",
    "    def __str__(self):\n",
    "        return str(self.body_size)"
   ]
  },
  {
   "cell_type": "code",
   "execution_count": null,
   "metadata": {},
   "outputs": [],
   "source": [
    "b = body('Large')"
   ]
  },
  {
   "cell_type": "code",
   "execution_count": null,
   "metadata": {},
   "outputs": [],
   "source": [
    "print(b)"
   ]
  },
  {
   "cell_type": "code",
   "execution_count": null,
   "metadata": {},
   "outputs": [],
   "source": [
    "class car:\n",
    "    def __init__(self,ty,ey,by):\n",
    "        self.ty = ty\n",
    "        self.ey = ey\n",
    "        self.by = by\n",
    "    def __str__(self):\n",
    "        return str(self.ty) + \" \"+ str(self.ey) +\" \"+ str(self.by)"
   ]
  },
  {
   "cell_type": "markdown",
   "metadata": {},
   "source": [
    "##### We only need to know what input the tyre,engine,body class needs and without knowing any code inside this classes we can use the classes functionality without using inheritance"
   ]
  },
  {
   "cell_type": "code",
   "execution_count": null,
   "metadata": {},
   "outputs": [],
   "source": [
    "c = car(t,e,body(\"small\"))\n",
    "print(c)"
   ]
  },
  {
   "cell_type": "markdown",
   "metadata": {},
   "source": [
    "#### Dynamic encapsulation - Passing value directly instead of object"
   ]
  },
  {
   "cell_type": "code",
   "execution_count": null,
   "metadata": {},
   "outputs": [],
   "source": [
    "c = car(tyre(34,53,3),e,\"small\")\n",
    "print(c)"
   ]
  },
  {
   "cell_type": "markdown",
   "metadata": {},
   "source": [
    "### Polymorphism"
   ]
  },
  {
   "cell_type": "code",
   "execution_count": null,
   "metadata": {},
   "outputs": [],
   "source": [
    "def add_x(a,b):\n",
    "    return a+b\n",
    "add_x(\"karan\",\"doshi\")\n"
   ]
  },
  {
   "cell_type": "code",
   "execution_count": null,
   "metadata": {},
   "outputs": [],
   "source": [
    "add_x(3,4)"
   ]
  },
  {
   "cell_type": "code",
   "execution_count": null,
   "metadata": {},
   "outputs": [],
   "source": [
    "add_x([232,24,\"sdvsdv\"],[232,533])"
   ]
  },
  {
   "cell_type": "markdown",
   "metadata": {},
   "source": [
    "### File Handling"
   ]
  },
  {
   "cell_type": "code",
   "execution_count": null,
   "metadata": {},
   "outputs": [],
   "source": [
    "%%writefile xyz.txt\n",
    "my name is karan"
   ]
  },
  {
   "cell_type": "code",
   "execution_count": null,
   "metadata": {},
   "outputs": [],
   "source": [
    "pwd"
   ]
  },
  {
   "cell_type": "code",
   "execution_count": null,
   "metadata": {},
   "outputs": [],
   "source": [
    "f = open('xyz.txt')\n",
    "f"
   ]
  },
  {
   "cell_type": "code",
   "execution_count": null,
   "metadata": {},
   "outputs": [],
   "source": [
    "f.read()"
   ]
  },
  {
   "cell_type": "code",
   "execution_count": null,
   "metadata": {},
   "outputs": [],
   "source": [
    "f.seek(0)"
   ]
  },
  {
   "cell_type": "code",
   "execution_count": null,
   "metadata": {},
   "outputs": [],
   "source": [
    "with open('xyz.txt','r') as f1:\n",
    "    f1.seek(0)\n",
    "    z = f1.read()\n",
    "    y = f1.read()\n",
    "    f1.seek(0)"
   ]
  },
  {
   "cell_type": "code",
   "execution_count": null,
   "metadata": {},
   "outputs": [],
   "source": [
    "z"
   ]
  },
  {
   "cell_type": "code",
   "execution_count": null,
   "metadata": {},
   "outputs": [],
   "source": [
    "y"
   ]
  },
  {
   "cell_type": "code",
   "execution_count": null,
   "metadata": {},
   "outputs": [],
   "source": [
    "from io import StringIO"
   ]
  },
  {
   "cell_type": "code",
   "execution_count": null,
   "metadata": {},
   "outputs": [],
   "source": [
    "s = input()"
   ]
  },
  {
   "cell_type": "code",
   "execution_count": null,
   "metadata": {},
   "outputs": [],
   "source": [
    "s1 = StringIO(s)"
   ]
  },
  {
   "cell_type": "code",
   "execution_count": null,
   "metadata": {},
   "outputs": [],
   "source": [
    "type(s1)"
   ]
  },
  {
   "cell_type": "code",
   "execution_count": null,
   "metadata": {},
   "outputs": [],
   "source": [
    "s1.write(\"wassup\")"
   ]
  },
  {
   "cell_type": "code",
   "execution_count": null,
   "metadata": {},
   "outputs": [],
   "source": [
    "s1.seek(0)"
   ]
  },
  {
   "cell_type": "code",
   "execution_count": null,
   "metadata": {},
   "outputs": [],
   "source": [
    "s1.read()"
   ]
  },
  {
   "cell_type": "markdown",
   "metadata": {},
   "source": [
    "###  Exception Handling"
   ]
  },
  {
   "cell_type": "code",
   "execution_count": null,
   "metadata": {},
   "outputs": [],
   "source": [
    "print(\"wefwew) \n",
    "### syntax error -compile time error"
   ]
  },
  {
   "cell_type": "code",
   "execution_count": null,
   "metadata": {},
   "outputs": [],
   "source": [
    "pandas.read_csv() # compile"
   ]
  },
  {
   "cell_type": "code",
   "execution_count": null,
   "metadata": {},
   "outputs": [],
   "source": [
    "8/0   # runtime error"
   ]
  },
  {
   "cell_type": "code",
   "execution_count": null,
   "metadata": {},
   "outputs": [],
   "source": [
    "a = int(input())"
   ]
  },
  {
   "cell_type": "code",
   "execution_count": null,
   "metadata": {},
   "outputs": [],
   "source": [
    "5/a"
   ]
  },
  {
   "cell_type": "code",
   "execution_count": null,
   "metadata": {},
   "outputs": [],
   "source": [
    "try :\n",
    "    f = open('xyz.txt','r')\n",
    "    f.write(\"dsdfsd\")\n",
    "    print(\"working\")\n",
    "except:\n",
    "    print(\"Code failed\")"
   ]
  },
  {
   "cell_type": "code",
   "execution_count": null,
   "metadata": {},
   "outputs": [],
   "source": [
    "try :\n",
    "    a = int(input())\n",
    "    b = 242/a\n",
    "    print(b)\n",
    "except Exception as e:\n",
    "    print(e)\n",
    "    print(\"Please enter number other than 0\")"
   ]
  },
  {
   "cell_type": "code",
   "execution_count": null,
   "metadata": {},
   "outputs": [],
   "source": [
    "try :\n",
    "    a = int(input())\n",
    "    b = 242/a\n",
    "    print(b)\n",
    "    print(\"working fine\")\n",
    "except Exception as e:\n",
    "    print(e)\n",
    "    print(\"Please enter number other than 0\")\n",
    "else:\n",
    "    print(\"Code is fine, exited try-except\")\n",
    "finally:\n",
    "    print(\"You gave this number as input- \" + str(a))"
   ]
  },
  {
   "cell_type": "code",
   "execution_count": 10,
   "metadata": {},
   "outputs": [],
   "source": [
    "def askint():\n",
    "    count = 0\n",
    "    while count<=10:\n",
    "        try:\n",
    "            print(count)\n",
    "            v = int(input(\"Please enter an integer- \"))\n",
    "            break\n",
    "        except Exception as e:\n",
    "            print(e)\n",
    "            continue\n",
    "        finally:\n",
    "            count +=1\n",
    "            print(\"If you entered the integer, great !! \\n But if you have not entered an integer, please do.\")"
   ]
  },
  {
   "cell_type": "code",
   "execution_count": 11,
   "metadata": {},
   "outputs": [
    {
     "name": "stdout",
     "output_type": "stream",
     "text": [
      "0\n",
      "Please enter an integer- dfgsv\n",
      "invalid literal for int() with base 10: 'dfgsv'\n",
      "If you entered the integer, great !! \n",
      " But if you have not entered an integer, please do.\n",
      "1\n",
      "Please enter an integer- sd\n",
      "invalid literal for int() with base 10: 'sd'\n",
      "If you entered the integer, great !! \n",
      " But if you have not entered an integer, please do.\n",
      "2\n",
      "Please enter an integer- va\n",
      "invalid literal for int() with base 10: 'va'\n",
      "If you entered the integer, great !! \n",
      " But if you have not entered an integer, please do.\n",
      "3\n",
      "Please enter an integer- w\n",
      "invalid literal for int() with base 10: 'w'\n",
      "If you entered the integer, great !! \n",
      " But if you have not entered an integer, please do.\n",
      "4\n",
      "Please enter an integer- f\n",
      "invalid literal for int() with base 10: 'f'\n",
      "If you entered the integer, great !! \n",
      " But if you have not entered an integer, please do.\n",
      "5\n",
      "Please enter an integer- 34\n",
      "If you entered the integer, great !! \n",
      " But if you have not entered an integer, please do.\n"
     ]
    }
   ],
   "source": [
    "askint()"
   ]
  },
  {
   "cell_type": "code",
   "execution_count": 12,
   "metadata": {},
   "outputs": [],
   "source": [
    "#Multiple except blocks"
   ]
  },
  {
   "cell_type": "code",
   "execution_count": 27,
   "metadata": {},
   "outputs": [
    {
     "name": "stdout",
     "output_type": "stream",
     "text": [
      "OSError\n"
     ]
    }
   ],
   "source": [
    "try:\n",
    "    f = open('xy.txt')\n",
    "    f.write(\"dfsdvfs\")\n",
    "except FileExistsError as e:\n",
    "    print(\"FileExistsError\")\n",
    "except ValueError as e:\n",
    "    print(\"ValueError\")\n",
    "except OSError as e:\n",
    "    print(\"OSError\")\n",
    "except IOError as e:\n",
    "    print(\"IOError\")\n",
    "except Exception as e:\n",
    "    print(\"Exception\")\n",
    "    print(e)"
   ]
  },
  {
   "cell_type": "code",
   "execution_count": 28,
   "metadata": {},
   "outputs": [
    {
     "ename": "FileNotFoundError",
     "evalue": "[Errno 2] No such file or directory: 'xy.txt'",
     "output_type": "error",
     "traceback": [
      "\u001b[1;31m---------------------------------------------------------------------------\u001b[0m",
      "\u001b[1;31mFileNotFoundError\u001b[0m                         Traceback (most recent call last)",
      "\u001b[1;32m<ipython-input-28-c349a6e211ab>\u001b[0m in \u001b[0;36m<module>\u001b[1;34m\u001b[0m\n\u001b[0;32m      1\u001b[0m \u001b[1;32mtry\u001b[0m\u001b[1;33m:\u001b[0m\u001b[1;33m\u001b[0m\u001b[1;33m\u001b[0m\u001b[0m\n\u001b[1;32m----> 2\u001b[1;33m     \u001b[0mf\u001b[0m \u001b[1;33m=\u001b[0m \u001b[0mopen\u001b[0m\u001b[1;33m(\u001b[0m\u001b[1;34m'xy.txt'\u001b[0m\u001b[1;33m)\u001b[0m\u001b[1;33m\u001b[0m\u001b[1;33m\u001b[0m\u001b[0m\n\u001b[0m\u001b[0;32m      3\u001b[0m     \u001b[0mf\u001b[0m\u001b[1;33m.\u001b[0m\u001b[0mwrite\u001b[0m\u001b[1;33m(\u001b[0m\u001b[1;34m\"dfsdvfs\"\u001b[0m\u001b[1;33m)\u001b[0m\u001b[1;33m\u001b[0m\u001b[1;33m\u001b[0m\u001b[0m\n\u001b[0;32m      4\u001b[0m \u001b[1;32mexcept\u001b[0m \u001b[1;33m(\u001b[0m\u001b[0mFileExistsError\u001b[0m\u001b[1;33m,\u001b[0m \u001b[0mValueError\u001b[0m\u001b[1;33m)\u001b[0m\u001b[1;33m:\u001b[0m\u001b[1;33m\u001b[0m\u001b[1;33m\u001b[0m\u001b[0m\n\u001b[0;32m      5\u001b[0m     \u001b[0mprint\u001b[0m\u001b[1;33m(\u001b[0m\u001b[1;34m\"Error\"\u001b[0m\u001b[1;33m)\u001b[0m\u001b[1;33m\u001b[0m\u001b[1;33m\u001b[0m\u001b[0m\n",
      "\u001b[1;31mFileNotFoundError\u001b[0m: [Errno 2] No such file or directory: 'xy.txt'"
     ]
    }
   ],
   "source": [
    "try:\n",
    "    f = open('xy.txt')\n",
    "    f.write(\"dfsdvfs\")\n",
    "except (FileExistsError, ValueError):\n",
    "    print(\"Error\")"
   ]
  },
  {
   "cell_type": "code",
   "execution_count": 29,
   "metadata": {},
   "outputs": [
    {
     "name": "stdout",
     "output_type": "stream",
     "text": [
      "Error\n"
     ]
    }
   ],
   "source": [
    "try:\n",
    "    f = open('xy.txt')\n",
    "    f.write(\"dfsdvfs\")\n",
    "except (FileExistsError, ValueError, Exception):\n",
    "    print(\"Error\")"
   ]
  },
  {
   "cell_type": "code",
   "execution_count": 32,
   "metadata": {},
   "outputs": [
    {
     "name": "stdout",
     "output_type": "stream",
     "text": [
      "Please enter an integer- 3\n"
     ]
    }
   ],
   "source": [
    "try:\n",
    "    v = int(input(\"Please enter an integer- \"))\n",
    "    if v<2:\n",
    "        raise ValueError(\"This is less than 2, please enter greater no.\")\n",
    "except Exception as e:\n",
    "    print(e)"
   ]
  },
  {
   "cell_type": "markdown",
   "metadata": {},
   "source": [
    "## SQLITE3"
   ]
  },
  {
   "cell_type": "code",
   "execution_count": 3,
   "metadata": {},
   "outputs": [],
   "source": [
    "import sqlite3\n",
    "conn = sqlite3.connect(\"xyz\")"
   ]
  },
  {
   "cell_type": "code",
   "execution_count": 5,
   "metadata": {},
   "outputs": [
    {
     "data": {
      "text/plain": [
       "<sqlite3.Cursor at 0x2958683bb90>"
      ]
     },
     "execution_count": 5,
     "metadata": {},
     "output_type": "execute_result"
    }
   ],
   "source": [
    "conn.execute('drop table if exists abc')"
   ]
  },
  {
   "cell_type": "code",
   "execution_count": 6,
   "metadata": {},
   "outputs": [
    {
     "data": {
      "text/plain": [
       "<sqlite3.Cursor at 0x2958797a340>"
      ]
     },
     "execution_count": 6,
     "metadata": {},
     "output_type": "execute_result"
    }
   ],
   "source": [
    "conn.execute('create table abc(id int, name text,score int)')"
   ]
  },
  {
   "cell_type": "code",
   "execution_count": 23,
   "metadata": {},
   "outputs": [
    {
     "data": {
      "text/plain": [
       "<sqlite3.Cursor at 0x295877bbdc0>"
      ]
     },
     "execution_count": 23,
     "metadata": {},
     "output_type": "execute_result"
    }
   ],
   "source": [
    "conn.execute('insert into abc(id,name,score) values(2,\"vbfKaran\",969)')\n",
    "conn.execute('insert into abc(id,name,score) values(3,\"ergeKaran\",9459)')\n",
    "conn.execute('insert into abc(id,name,score) values(4,\"assfKaran\",949)')\n",
    "conn.execute('insert into abc(id,name,score) values(5,\"asKaran\",995)')\n",
    "conn.execute('insert into abc(id,name,score) values(7,\"Karasn\",9956)')\n",
    "conn.execute('insert into abc(id,name,score) values(6,\"Karasdn\",994)')\n",
    "conn.execute('insert into abc(id,name,score) values(9,\"Kardan\",99)')\n"
   ]
  },
  {
   "cell_type": "code",
   "execution_count": 31,
   "metadata": {},
   "outputs": [],
   "source": [
    "conn.commit()"
   ]
  },
  {
   "cell_type": "code",
   "execution_count": 32,
   "metadata": {},
   "outputs": [
    {
     "name": "stdout",
     "output_type": "stream",
     "text": [
      "(1, 'Karan', 99)\n",
      "(2, 'vbfKaran', 969)\n",
      "(3, 'ergeKaran', 9459)\n",
      "(4, 'assfKaran', 949)\n",
      "(5, 'asKaran', 995)\n",
      "(7, 'Karasn', 9956)\n",
      "(6, 'Karasdn', 994)\n",
      "(9, 'Kardan', 99)\n"
     ]
    }
   ],
   "source": [
    "s = conn.execute('select * from abc')\n",
    "rows = s.fetchall()\n",
    "for r in rows:\n",
    "    print(r)"
   ]
  },
  {
   "cell_type": "code",
   "execution_count": 33,
   "metadata": {},
   "outputs": [
    {
     "data": {
      "text/plain": [
       "[(1, 'Karan', 99),\n",
       " (2, 'vbfKaran', 969),\n",
       " (3, 'ergeKaran', 9459),\n",
       " (4, 'assfKaran', 949),\n",
       " (5, 'asKaran', 995),\n",
       " (7, 'Karasn', 9956),\n",
       " (6, 'Karasdn', 994),\n",
       " (9, 'Kardan', 99)]"
      ]
     },
     "execution_count": 33,
     "metadata": {},
     "output_type": "execute_result"
    }
   ],
   "source": [
    "list(conn.execute('select * from abc'))"
   ]
  },
  {
   "cell_type": "code",
   "execution_count": 34,
   "metadata": {},
   "outputs": [
    {
     "name": "stdout",
     "output_type": "stream",
     "text": [
      "(1, 'Karan', 99)\n",
      "(2, 'vbfKaran', 969)\n",
      "(3, 'ergeKaran', 9459)\n",
      "(4, 'assfKaran', 949)\n",
      "(5, 'asKaran', 995)\n",
      "(7, 'Karasn', 9956)\n",
      "(6, 'Karasdn', 994)\n",
      "(9, 'Kardan', 99)\n"
     ]
    }
   ],
   "source": [
    "for r in conn.execute('select * from abc'):\n",
    "    print(r)"
   ]
  },
  {
   "cell_type": "code",
   "execution_count": 35,
   "metadata": {},
   "outputs": [
    {
     "name": "stdout",
     "output_type": "stream",
     "text": [
      "(1, 'Karan', 99)\n",
      "(9, 'Kardan', 99)\n",
      "(4, 'assfKaran', 949)\n",
      "(2, 'vbfKaran', 969)\n",
      "(6, 'Karasdn', 994)\n",
      "(5, 'asKaran', 995)\n",
      "(3, 'ergeKaran', 9459)\n",
      "(7, 'Karasn', 9956)\n"
     ]
    }
   ],
   "source": [
    "for i in conn.execute('select * from abc order by score'):\n",
    "    print(i)"
   ]
  },
  {
   "cell_type": "code",
   "execution_count": 36,
   "metadata": {},
   "outputs": [
    {
     "name": "stdout",
     "output_type": "stream",
     "text": [
      "Collecting mysql\n",
      "  Downloading mysql-0.0.2.tar.gz (1.9 kB)\n",
      "Collecting mysqlclient\n",
      "  Downloading mysqlclient-2.0.3-cp37-cp37m-win_amd64.whl (178 kB)\n",
      "Building wheels for collected packages: mysql\n",
      "  Building wheel for mysql (setup.py): started\n",
      "  Building wheel for mysql (setup.py): finished with status 'done'\n",
      "  Created wheel for mysql: filename=mysql-0.0.2-py3-none-any.whl size=1251 sha256=a9095b691113d0d8e167aecdfe3b2d53049896da2a4d3c7b54e58c4aa171dfa1\n",
      "  Stored in directory: c:\\users\\karan\\appdata\\local\\pip\\cache\\wheels\\f6\\60\\6d\\b1cf0653d003ddb0be2985a4d5f2c6f977d91f0862df094de8\n",
      "Successfully built mysql\n",
      "Installing collected packages: mysqlclient, mysql\n",
      "Successfully installed mysql-0.0.2 mysqlclient-2.0.3\n"
     ]
    }
   ],
   "source": [
    "!pip install mysql"
   ]
  },
  {
   "cell_type": "code",
   "execution_count": 37,
   "metadata": {},
   "outputs": [],
   "source": [
    "import mysql.connector"
   ]
  },
  {
   "cell_type": "code",
   "execution_count": null,
   "metadata": {},
   "outputs": [],
   "source": []
  }
 ],
 "metadata": {
  "kernelspec": {
   "display_name": "Python 3",
   "language": "python",
   "name": "python3"
  },
  "language_info": {
   "codemirror_mode": {
    "name": "ipython",
    "version": 3
   },
   "file_extension": ".py",
   "mimetype": "text/x-python",
   "name": "python",
   "nbconvert_exporter": "python",
   "pygments_lexer": "ipython3",
   "version": "3.7.6"
  }
 },
 "nbformat": 4,
 "nbformat_minor": 4
}
