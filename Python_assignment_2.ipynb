{
 "cells": [
  {
   "cell_type": "markdown",
   "metadata": {},
   "source": [
    "1. Create the below pattern using nested for loop in Python.\n",
    "*\n",
    "* *\n",
    "* * *\n",
    "* * * *\n",
    "* * * * *\n",
    "* * * *\n",
    "* * *\n",
    "* *\n",
    "*\n",
    "\n",
    "2. Write a Python program to reverse a word after accepting the input from the user.\n",
    "\n",
    "\n",
    "Sample Output:\n",
    "Input word: ineuron\n",
    "Output: norueni "
   ]
  },
  {
   "cell_type": "code",
   "execution_count": null,
   "metadata": {},
   "outputs": [],
   "source": []
  },
  {
   "cell_type": "code",
   "execution_count": 9,
   "metadata": {},
   "outputs": [
    {
     "name": "stdout",
     "output_type": "stream",
     "text": [
      "                    \n",
      "*                   \n",
      "* *                 \n",
      "* * *               \n",
      "* * * *             \n",
      "* * * * *           \n",
      "* * * *             \n",
      "* * *               \n",
      "* *                 \n",
      "*                   \n"
     ]
    }
   ],
   "source": [
    "for i in range(10):\n",
    "    if i<=5:\n",
    "        for j in range(i):\n",
    "            print(\"*\",end=\" \")\n",
    "        for j in range(10-i):\n",
    "            print(\" \",end=\" \")\n",
    "        print()\n",
    "    else:\n",
    "        for j in range(10-i):\n",
    "            print(\"*\",end=\" \")\n",
    "        for j in range(i):\n",
    "            print(\" \",end=\" \")\n",
    "        print()\n",
    "        "
   ]
  },
  {
   "cell_type": "code",
   "execution_count": 10,
   "metadata": {},
   "outputs": [
    {
     "name": "stdout",
     "output_type": "stream",
     "text": [
      "Please enter a word \n",
      "ineuron\n",
      "The reversed word is :  norueni\n"
     ]
    }
   ],
   "source": [
    "word = str(input(\"Please enter a word \\n\"))\n",
    "word = word[::-1]\n",
    "print(\"The reversed word is : \",word)"
   ]
  },
  {
   "cell_type": "code",
   "execution_count": null,
   "metadata": {},
   "outputs": [],
   "source": []
  }
 ],
 "metadata": {
  "kernelspec": {
   "display_name": "Python 3",
   "language": "python",
   "name": "python3"
  },
  "language_info": {
   "codemirror_mode": {
    "name": "ipython",
    "version": 3
   },
   "file_extension": ".py",
   "mimetype": "text/x-python",
   "name": "python",
   "nbconvert_exporter": "python",
   "pygments_lexer": "ipython3",
   "version": "3.7.6"
  }
 },
 "nbformat": 4,
 "nbformat_minor": 4
}
